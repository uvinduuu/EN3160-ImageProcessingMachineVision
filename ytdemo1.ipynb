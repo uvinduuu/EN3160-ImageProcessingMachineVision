{
 "cells": [
  {
   "cell_type": "code",
   "execution_count": 2,
   "metadata": {},
   "outputs": [
    {
     "name": "stdout",
     "output_type": "stream",
     "text": [
      "d:\\UoM\\5th Semester\\EN3160 - Image Processing and Machine VIsion\\SPIGA\n"
     ]
    },
    {
     "name": "stderr",
     "output_type": "stream",
     "text": [
      "Cloning into 'SPIGA'...\n",
      "Updating files:  28% (34/120)\n",
      "Updating files:  29% (35/120)\n",
      "Updating files:  30% (36/120)\n",
      "Updating files:  31% (38/120)\n",
      "Updating files:  32% (39/120)\n",
      "Updating files:  33% (40/120)\n",
      "Updating files:  34% (41/120)\n",
      "Updating files:  35% (42/120)\n",
      "Updating files:  36% (44/120)\n",
      "Updating files:  37% (45/120)\n",
      "Updating files:  38% (46/120)\n",
      "Updating files:  39% (47/120)\n",
      "Updating files:  40% (48/120)\n",
      "Updating files:  41% (50/120)\n",
      "Updating files:  42% (51/120)\n",
      "Updating files:  43% (52/120)\n",
      "Updating files:  44% (53/120)\n",
      "Updating files:  45% (54/120)\n",
      "Updating files:  46% (56/120)\n",
      "Updating files:  47% (57/120)\n",
      "Updating files:  48% (58/120)\n",
      "Updating files:  49% (59/120)\n",
      "Updating files:  50% (60/120)\n",
      "Updating files:  51% (62/120)\n",
      "Updating files:  52% (63/120)\n",
      "Updating files:  53% (64/120)\n",
      "Updating files:  54% (65/120)\n",
      "Updating files:  55% (66/120)\n",
      "Updating files:  56% (68/120)\n",
      "Updating files:  57% (69/120)\n",
      "Updating files:  58% (70/120)\n",
      "Updating files:  59% (71/120)\n",
      "Updating files:  60% (72/120)\n",
      "Updating files:  61% (74/120)\n",
      "Updating files:  62% (75/120)\n",
      "Updating files:  63% (76/120)\n",
      "Updating files:  64% (77/120)\n",
      "Updating files:  65% (78/120)\n",
      "Updating files:  66% (80/120)\n",
      "Updating files:  67% (81/120)\n",
      "Updating files:  68% (82/120)\n",
      "Updating files:  69% (83/120)\n",
      "Updating files:  70% (84/120)\n",
      "Updating files:  71% (86/120)\n",
      "Updating files:  72% (87/120)\n",
      "Updating files:  73% (88/120)\n",
      "Updating files:  74% (89/120)\n",
      "Updating files:  75% (90/120)\n",
      "Updating files:  76% (92/120)\n",
      "Updating files:  77% (93/120)\n",
      "Updating files:  78% (94/120)\n",
      "Updating files:  79% (95/120)\n",
      "Updating files:  80% (96/120)\n",
      "Updating files:  81% (98/120)\n",
      "Updating files:  82% (99/120)\n",
      "Updating files:  83% (100/120)\n",
      "Updating files:  84% (101/120)\n",
      "Updating files:  85% (102/120)\n",
      "Updating files:  86% (104/120)\n",
      "Updating files:  87% (105/120)\n",
      "Updating files:  88% (106/120)\n",
      "Updating files:  89% (107/120)\n",
      "Updating files:  90% (108/120)\n",
      "Updating files:  91% (110/120)\n",
      "Updating files:  92% (111/120)\n",
      "Updating files:  93% (112/120)\n",
      "Updating files:  94% (113/120)\n",
      "Updating files:  95% (114/120)\n",
      "Updating files:  96% (116/120)\n",
      "Updating files:  97% (117/120)\n",
      "Updating files:  98% (118/120)\n",
      "Updating files:  99% (119/120)\n",
      "Updating files: 100% (120/120)\n",
      "Updating files: 100% (120/120), done.\n"
     ]
    }
   ],
   "source": [
    "!pip install facenet-pytorch\n",
    "!git clone https://github.com/andresprados/SPIGA.git\n",
    "%cd SPIGA/\n",
    "!pip install -e ."
   ]
  },
  {
   "cell_type": "code",
   "execution_count": 7,
   "metadata": {},
   "outputs": [],
   "source": [
    "!pip install pytorch"
   ]
  },
  {
   "cell_type": "code",
   "execution_count": 6,
   "metadata": {},
   "outputs": [
    {
     "ename": "ModuleNotFoundError",
     "evalue": "No module named 'facenet_pytorch'",
     "output_type": "error",
     "traceback": [
      "\u001b[1;31m---------------------------------------------------------------------------\u001b[0m",
      "\u001b[1;31mModuleNotFoundError\u001b[0m                       Traceback (most recent call last)",
      "Cell \u001b[1;32mIn[6], line 4\u001b[0m\n\u001b[0;32m      2\u001b[0m \u001b[38;5;28;01mimport\u001b[39;00m \u001b[38;5;21;01mnumpy\u001b[39;00m \u001b[38;5;28;01mas\u001b[39;00m \u001b[38;5;21;01mnp\u001b[39;00m\n\u001b[0;32m      3\u001b[0m \u001b[38;5;28;01mfrom\u001b[39;00m \u001b[38;5;21;01mPIL\u001b[39;00m \u001b[38;5;28;01mimport\u001b[39;00m Image, ImageDraw\n\u001b[1;32m----> 4\u001b[0m \u001b[38;5;28;01mfrom\u001b[39;00m \u001b[38;5;21;01mfacenet_pytorch\u001b[39;00m \u001b[38;5;28;01mimport\u001b[39;00m MTCNN\n\u001b[0;32m      6\u001b[0m \u001b[38;5;66;03m# Initialize MTCNN for face detection\u001b[39;00m\n\u001b[0;32m      7\u001b[0m mtcnn \u001b[38;5;241m=\u001b[39m MTCNN()\n",
      "\u001b[1;31mModuleNotFoundError\u001b[0m: No module named 'facenet_pytorch'"
     ]
    }
   ],
   "source": [
    "import cv2\n",
    "import numpy as np\n",
    "from PIL import Image, ImageDraw\n",
    "from facenet_pytorch import MTCNN\n",
    "\n",
    "# Initialize MTCNN for face detection\n",
    "mtcnn = MTCNN()\n",
    "\n",
    "# Open the webcam (use index 0 for the default webcam)\n",
    "cap = cv2.VideoCapture(0)\n",
    "\n",
    "while True:\n",
    "    # Capture frame-by-frame from webcam\n",
    "    ret, frame = cap.read()\n",
    "\n",
    "    if not ret:\n",
    "        print(\"Failed to grab frame\")\n",
    "        break\n",
    "\n",
    "    # Convert the frame from BGR (OpenCV default) to RGB (PIL format)\n",
    "    frame_rgb = cv2.cvtColor(frame, cv2.COLOR_BGR2RGB)\n",
    "\n",
    "    # Convert the NumPy array (OpenCV frame) to a PIL image\n",
    "    pil_image = Image.fromarray(frame_rgb)\n",
    "\n",
    "    # Use MTCNN to detect faces\n",
    "    boxes, _ = mtcnn.detect(pil_image)\n",
    "\n",
    "    # Draw rectangles around detected faces\n",
    "    if boxes is not None:\n",
    "        for box in boxes:\n",
    "            cv2.rectangle(frame, \n",
    "                          (int(box[0]), int(box[1])), \n",
    "                          (int(box[2]), int(box[3])), \n",
    "                          (0, 255, 0), 2)\n",
    "\n",
    "    # Display the resulting frame with face boxes\n",
    "    cv2.imshow('Webcam', frame)\n",
    "\n",
    "    # Press 'q' to exit the webcam view\n",
    "    if cv2.waitKey(1) & 0xFF == ord('q'):\n",
    "        break\n",
    "\n",
    "# Release the webcam and close windows\n",
    "cap.release()\n",
    "cv2.destroyAllWindows()"
   ]
  },
  {
   "cell_type": "code",
   "execution_count": null,
   "metadata": {},
   "outputs": [],
   "source": []
  }
 ],
 "metadata": {
  "kernelspec": {
   "display_name": "Python 3",
   "language": "python",
   "name": "python3"
  },
  "language_info": {
   "codemirror_mode": {
    "name": "ipython",
    "version": 3
   },
   "file_extension": ".py",
   "mimetype": "text/x-python",
   "name": "python",
   "nbconvert_exporter": "python",
   "pygments_lexer": "ipython3",
   "version": "3.11.1"
  }
 },
 "nbformat": 4,
 "nbformat_minor": 2
}
